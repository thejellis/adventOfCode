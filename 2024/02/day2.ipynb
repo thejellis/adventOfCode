{
 "cells": [
  {
   "cell_type": "code",
   "execution_count": 14,
   "id": "37904811-93ea-4f64-939c-292580bd0267",
   "metadata": {},
   "outputs": [],
   "source": [
    "import numpy as np"
   ]
  },
  {
   "cell_type": "code",
   "execution_count": 6,
   "id": "1fc07a07-c4e9-4dc0-8158-344c83b2da0e",
   "metadata": {},
   "outputs": [],
   "source": [
    "\n",
    "# Read file and parse data\n",
    "#File saved as input.txt\n",
    "filename = 'input.txt'\n",
    "f=open(filename)\n",
    "lines = f.readlines()\n"
   ]
  },
  {
   "cell_type": "code",
   "execution_count": 30,
   "id": "07d48fab-7fc5-4006-a77c-d56132b83dbc",
   "metadata": {},
   "outputs": [],
   "source": [
    "# separated by space\n",
    "data = [list(map(int, line.split())) for line in lines]"
   ]
  },
  {
   "cell_type": "code",
   "execution_count": 37,
   "id": "e9cf0246-dad1-4117-ab2f-2451b57feef0",
   "metadata": {},
   "outputs": [],
   "source": [
    "def is_valid_levels(levels):\n",
    "    # Check if the list is ascending or descending\n",
    "    is_ascending = all(levels[i] < levels[i+1] for i in range(len(levels) - 1))\n",
    "    is_descending = all(levels[i] > levels[i+1] for i in range(len(levels) - 1))\n",
    "    \n",
    "    # Check if all adjacent differences are between 1 and 3\n",
    "    valid_differences = all(1 <= abs(levels[i] - levels[i+1]) <= 3 for i in range(len(levels) - 1))\n",
    "    \n",
    "    # Return True only if the list is either all increasing or all decreasing and differences are valid\n",
    "    return (is_ascending or is_descending) and valid_differences\n",
    "\n"
   ]
  },
  {
   "cell_type": "code",
   "execution_count": 39,
   "id": "e0073a8b-52d6-4c78-b881-ebe0d925a9d0",
   "metadata": {},
   "outputs": [
    {
     "data": {
      "text/plain": [
       "242"
      ]
     },
     "execution_count": 39,
     "metadata": {},
     "output_type": "execute_result"
    }
   ],
   "source": [
    "np.sum([is_valid_levels(elem) for elem in data])"
   ]
  },
  {
   "cell_type": "code",
   "execution_count": 40,
   "id": "90031c1b-cdda-4dd8-bfbd-39a909a6e5cc",
   "metadata": {},
   "outputs": [],
   "source": [
    "def count_safe_reports(reports):\n",
    "    safe_count = 0\n",
    "    \n",
    "    for levels in reports:\n",
    "        # If the report is already safe\n",
    "        if is_valid_levels(levels):\n",
    "            safe_count += 1\n",
    "            continue\n",
    "        \n",
    "        # Try removing one level at a time\n",
    "        for i in range(len(levels)):\n",
    "            modified_levels = levels[:i] + levels[i+1:]  # Remove the i-th level\n",
    "            if is_valid_levels(modified_levels):\n",
    "                safe_count += 1\n",
    "                break  # Stop checking further if we find a valid modification\n",
    "    \n",
    "    return safe_count\n",
    "\n"
   ]
  },
  {
   "cell_type": "code",
   "execution_count": 43,
   "id": "941df20e-af58-44e3-ba49-cf4eab29dd00",
   "metadata": {},
   "outputs": [
    {
     "data": {
      "text/plain": [
       "311"
      ]
     },
     "execution_count": 43,
     "metadata": {},
     "output_type": "execute_result"
    }
   ],
   "source": [
    "np.sum(count_safe_reports(data))"
   ]
  },
  {
   "cell_type": "code",
   "execution_count": null,
   "id": "c803812d-4b53-4a74-85bb-1b702a468bf1",
   "metadata": {},
   "outputs": [],
   "source": []
  }
 ],
 "metadata": {
  "kernelspec": {
   "display_name": "Python 3 (ipykernel)",
   "language": "python",
   "name": "python3"
  },
  "language_info": {
   "codemirror_mode": {
    "name": "ipython",
    "version": 3
   },
   "file_extension": ".py",
   "mimetype": "text/x-python",
   "name": "python",
   "nbconvert_exporter": "python",
   "pygments_lexer": "ipython3",
   "version": "3.12.4"
  }
 },
 "nbformat": 4,
 "nbformat_minor": 5
}
